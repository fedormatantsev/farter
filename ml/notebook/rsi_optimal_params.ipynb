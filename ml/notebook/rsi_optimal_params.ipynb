{
 "metadata": {
  "language_info": {
   "codemirror_mode": {
    "name": "ipython",
    "version": 3
   },
   "file_extension": ".py",
   "mimetype": "text/x-python",
   "name": "python",
   "nbconvert_exporter": "python",
   "pygments_lexer": "ipython3",
   "version": "3.9.6"
  },
  "orig_nbformat": 4,
  "kernelspec": {
   "name": "python3",
   "display_name": "Python 3.9.6 64-bit ('.venv': venv)"
  },
  "interpreter": {
   "hash": "b9a9e1b10c66095cd148acb7042fa384f4b4436ef7646ad3a95216a4b67308c8"
  }
 },
 "nbformat": 4,
 "nbformat_minor": 2,
 "cells": [
  {
   "cell_type": "code",
   "execution_count": null,
   "source": [
    "import datetime\n",
    "\n",
    "import plotly.graph_objects as go\n",
    "from plotly.subplots import make_subplots\n",
    "\n",
    "from acquisition import fetch_candle_data\n",
    "from processing.plot_utils import make_candlestick\n",
    "\n",
    "from ta.trend import MACD\n",
    "from ta.momentum import StochasticOscillator\n",
    "\n",
    "\n",
    "candle_data = fetch_candle_data(ticker='NVDA', first_date=datetime.date(year=2019, month=1, day=1), last_date=datetime.date(year=2021, month=7, day=1))\n",
    "\n",
    "fig = make_subplots(rows=2, cols=1, shared_xaxes=True, row_heights=[60, 40])\n",
    "fig.add_trace(make_candlestick(candle_data[30:200]), row=2, col=1)\n",
    "\n",
    "threshold_buy = 0.02\n",
    "threshold_sell = 0.01\n",
    "target = candle_data.c.rolling(window=5).mean()\n",
    "target = (candle_data.c - candle_data.c.shift(1)) / candle_data.c\n",
    "target = target.dropna()\n",
    "target = target.rolling(window=5, win_type='gaussian', center=True).mean(std=1)\n",
    "\n",
    "target[(target < threshold_buy) & (target> -threshold_sell)] = 0\n",
    "target[target > 0] = 1\n",
    "target[target < 0] = -1\n",
    "\n",
    "fig.add_scatter(y=target[30:200], x=candle_data.t[30:200], name='target', row=1, col=1)\n",
    "\n",
    "macd = MACD(close=candle_data.c, window_fast=7, window_slow=13, window_sign=3).macd_signal()\n",
    "stochastic = StochasticOscillator(high=candle_data.h, low=candle_data.l, close=candle_data.c, window=7).stoch_signal()/50 - 1\n",
    "\n",
    "fig.add_scatter(y=macd[30:200], x=candle_data.t[30:200], name='MACD', row=1, col=1)\n",
    "fig.add_scatter(y=stochastic[30:200], x=candle_data.t[30:200], name='stochastic', row=1, col=1)\n",
    "\n",
    "fig.show()"
   ],
   "outputs": [],
   "metadata": {}
  },
  {
   "cell_type": "code",
   "execution_count": null,
   "source": [
    "stochastic.corr(target)"
   ],
   "outputs": [],
   "metadata": {}
  }
 ]
}