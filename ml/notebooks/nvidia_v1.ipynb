{
 "cells": [
  {
   "cell_type": "code",
   "execution_count": 1,
   "id": "0f3da8bc",
   "metadata": {},
   "outputs": [
    {
     "name": "stdout",
     "output_type": "stream",
     "text": [
      "ModelConfig(raw_input=[RawInputConfig(ticker='NVDA', resolution=<CandleResolution.THIRTY_MINUTES: 3>, first_date=datetime.date(2021, 1, 1), last_date=datetime.date(2021, 2, 1))])\n"
     ]
    }
   ],
   "source": [
    "from farter import ConfigLoader\n",
    "\n",
    "config_loader = ConfigLoader()\n",
    "model_config = config_loader.load('nvidia_v1')\n",
    "print(model_config)"
   ]
  },
  {
   "cell_type": "code",
   "execution_count": 2,
   "id": "6ad0baff",
   "metadata": {},
   "outputs": [
    {
     "name": "stdout",
     "output_type": "stream",
     "text": [
      "{'currency': 'USD',\n",
      " 'figi': 'BBG000BBJQV0',\n",
      " 'isin': 'US67066G1040',\n",
      " 'lot': 1,\n",
      " 'min_price_increment': 0.01,\n",
      " 'min_quantity': None,\n",
      " 'name': 'NVIDIA',\n",
      " 'ticker': 'NVDA',\n",
      " 'type': 'Stock'}\n"
     ]
    }
   ],
   "source": [
    "from farter import CandleDataFetcher\n",
    "\n",
    "data_fetcher = CandleDataFetcher()\n",
    "data_fetcher.fetch_raw_data(model_config)"
   ]
  },
  {
   "cell_type": "code",
   "execution_count": null,
   "id": "9eca04bd",
   "metadata": {},
   "outputs": [],
   "source": []
  }
 ],
 "metadata": {
  "kernelspec": {
   "display_name": "Python 3",
   "language": "python",
   "name": "python3"
  },
  "language_info": {
   "codemirror_mode": {
    "name": "ipython",
    "version": 3
   },
   "file_extension": ".py",
   "mimetype": "text/x-python",
   "name": "python",
   "nbconvert_exporter": "python",
   "pygments_lexer": "ipython3",
   "version": "3.9.5"
  }
 },
 "nbformat": 4,
 "nbformat_minor": 5
}
