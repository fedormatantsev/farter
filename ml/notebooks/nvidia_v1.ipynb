{
 "cells": [
  {
   "cell_type": "code",
   "execution_count": null,
   "id": "0f3da8bc",
   "metadata": {},
   "outputs": [],
   "source": [
    "from farter import ModelConfig\n",
    "\n",
    "model_config = ModelConfig.load('nvidia_v1')\n",
    "print(model_config)\n"
   ]
  },
  {
   "cell_type": "code",
   "execution_count": null,
   "id": "6ad0baff",
   "metadata": {},
   "outputs": [],
   "source": [
    "from farter import CandleDataFetcher\n",
    "\n",
    "model_config.raw_input[0].get_file_path()\n",
    "\n",
    "data_fetcher = CandleDataFetcher()\n",
    "raw_data = data_fetcher.fetch_raw_data(model_config)"
   ]
  },
  {
   "cell_type": "code",
   "execution_count": null,
   "id": "98b3d903",
   "metadata": {},
   "outputs": [],
   "source": [
    "from farter import calculate_indicators\n",
    "\n",
    "indicators = calculate_indicators(model_config, raw_data)\n"
   ]
  },
  {
   "cell_type": "code",
   "execution_count": null,
   "id": "ca3e9aa1",
   "metadata": {},
   "outputs": [],
   "source": [
    "import plotly.graph_objects as go\n",
    "from plotly.subplots import make_subplots\n",
    "\n",
    "nvda = raw_data[0]\n",
    "rsi = indicators[0]\n",
    "\n",
    "fig = make_subplots(rows=2, cols=1, shared_xaxes=True)\n",
    "\n",
    "fig.add_trace(go.Candlestick(x=nvda.t,\n",
    "                open=nvda.o,\n",
    "                high=nvda.h,\n",
    "                low=nvda.l,\n",
    "                close=nvda.c), row=2, col=1)\n",
    "\n",
    "fig.add_trace(go.Scatter(x=nvda.t, y=rsi.values), row=1, col=1)\n",
    "\n",
    "fig.show()"
   ]
  },
  {
   "cell_type": "code",
   "execution_count": null,
   "id": "ea03255c",
   "metadata": {},
   "outputs": [],
   "source": []
  }
 ],
 "metadata": {
  "kernelspec": {
   "display_name": "Python 3",
   "language": "python",
   "name": "python3"
  },
  "language_info": {
   "codemirror_mode": {
    "name": "ipython",
    "version": 3
   },
   "file_extension": ".py",
   "mimetype": "text/x-python",
   "name": "python",
   "nbconvert_exporter": "python",
   "pygments_lexer": "ipython3",
   "version": "3.7.9"
  }
 },
 "nbformat": 4,
 "nbformat_minor": 5
}
