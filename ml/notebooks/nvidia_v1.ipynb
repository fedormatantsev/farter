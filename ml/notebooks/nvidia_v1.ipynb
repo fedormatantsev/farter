{
 "cells": [
  {
   "cell_type": "code",
   "execution_count": null,
   "id": "0f3da8bc",
   "metadata": {},
   "outputs": [],
   "source": [
    "from farter import ModelConfig\n",
    "\n",
    "model_config = ModelConfig.load('nvidia_v1')\n",
    "print(model_config)\n"
   ]
  },
  {
   "cell_type": "code",
   "execution_count": null,
   "id": "6ad0baff",
   "metadata": {},
   "outputs": [],
   "source": [
    "from farter import CandleDataFetcher\n",
    "\n",
    "model_config.raw_input[0].get_file_path()\n",
    "\n",
    "data_fetcher = CandleDataFetcher()\n",
    "raw_data = data_fetcher.fetch_raw_data(model_config)"
   ]
  },
  {
   "cell_type": "code",
   "execution_count": null,
   "id": "98b3d903",
   "metadata": {},
   "outputs": [],
   "source": [
    "from farter import calculate_indicators\n",
    "\n",
    "indicators = calculate_indicators(model_config, raw_data)\n"
   ]
  },
  {
   "cell_type": "code",
   "execution_count": null,
   "id": "ca3e9aa1",
   "metadata": {},
   "outputs": [],
   "source": [
    "import plotly.graph_objects as go\n",
    "from plotly.subplots import make_subplots\n",
    "import ta.trend\n",
    "\n",
    "nvda = raw_data[0][-150:-1]\n",
    "macd_ref = ta.trend.MACD(nvda.c, window_fast=3, window_slow=8, window_sign=5).macd_diff()\n",
    "\n",
    "rsi = indicators['MACD-3-8-5'][-150:-1]\n",
    "\n",
    "fig = make_subplots(rows=2, cols=1, shared_xaxes=True)\n",
    "\n",
    "fig.add_trace(go.Candlestick(x=nvda.t,\n",
    "                open=nvda.o,\n",
    "                high=nvda.h,\n",
    "                low=nvda.l,\n",
    "                close=nvda.c), row=2, col=1)\n",
    "\n",
    "fig.add_trace(go.Scatter(x=nvda.t, y=rsi, name=rsi.name), row=1, col=1)\n",
    "fig.add_trace(go.Scatter(x=nvda.t, y=macd_ref, name='macd_ref'), row=1, col=1)\n",
    "\n",
    "fig.show()"
   ]
  },
  {
   "cell_type": "code",
   "execution_count": null,
   "id": "ea03255c",
   "metadata": {},
   "outputs": [],
   "source": [
    "from farter import calculate_target\n",
    "\n",
    "nvda = raw_data[0]\n",
    "target = calculate_target(nvda, threshold=0.02)\n",
    "\n",
    "fig = make_subplots(rows=2, cols=1, shared_xaxes=True)\n",
    "\n",
    "fig.add_trace(go.Candlestick(x=nvda.t,\n",
    "                open=nvda.o,\n",
    "                high=nvda.h,\n",
    "                low=nvda.l,\n",
    "                close=nvda.c), row=2, col=1)\n",
    "\n",
    "fig.add_trace(go.Scatter(x=nvda.t, y=target), row=1, col=1)\n",
    "\n",
    "fig.show()\n"
   ]
  },
  {
   "cell_type": "code",
   "execution_count": null,
   "id": "1bc15b12",
   "metadata": {},
   "outputs": [],
   "source": [
    "import pandas as pd\n",
    "import catboost as cb\n",
    "from sklearn.model_selection import train_test_split\n",
    "\n",
    "indicators_data = indicators.dropna(axis=0)\n",
    "target_data = target.dropna(axis=0)\n",
    "\n",
    "indicators_data = indicators_data[indicators_data.index.isin(target_data.index)]\n",
    "target_data = target_data[target_data.index.isin(indicators_data.index)]\n",
    "\n",
    "rows = len(indicators_data.index)\n",
    "train_size = int(rows * 0.8)\n",
    "\n",
    "buy_rows = len(target_data[target_data > 0])\n",
    "sell_rows = len(target_data[target_data < 0])\n",
    "do_nothing_rows = rows - buy_rows - sell_rows\n",
    "\n",
    "buy_rate = (1 - buy_rows / rows) / 2\n",
    "sell_rate = (1 - sell_rows / rows) / 2\n",
    "do_nothing_rate = (1 - do_nothing_rows / rows) / 2\n",
    "\n",
    "print(f'buy rate: {buy_rate}, sell rate: {sell_rate}, do nothing rate: {do_nothing_rate}')\n",
    "\n",
    "weight = pd.Series(index=target_data.index)\n",
    "weight[target_data > 0] = buy_rate\n",
    "weight[target_data < 0] = sell_rate\n",
    "weight[target_data == 0] = do_nothing_rate\n",
    "\n",
    "classifier = cb.CatBoostClassifier(learning_rate=0.07)\n",
    "x_train, x_test, y_train, y_test, w_train, w_test = train_test_split(indicators_data, target_data, weight,\n",
    "                                                                     train_size=train_size)\n",
    "train_pool = cb.Pool(data=x_train, label=y_train, weight=w_train)\n",
    "test_pool = cb.Pool(data=x_test, label=y_test)\n",
    "\n",
    "classifier.fit(X=train_pool, eval_set=test_pool)\n",
    "\n",
    "predicted = classifier.predict_proba(indicators.tail(150)).transpose()\n",
    "\n",
    "fig = make_subplots(rows=2, cols=1, shared_xaxes=True)\n",
    "\n",
    "fig.add_trace(go.Candlestick(x=nvda.tail(150).t,\n",
    "                open=nvda.tail(150).o,\n",
    "                high=nvda.tail(150).h,\n",
    "                low=nvda.tail(150).l,\n",
    "                close=nvda.tail(150).c), row=2, col=1)\n",
    "\n",
    "fig.add_trace(go.Scatter(x=nvda.tail(150).t, y=predicted[0], name='Buy'), row=1, col=1)\n",
    "fig.add_trace(go.Scatter(x=nvda.tail(150).t, y=predicted[1], name='Do Nothing'), row=1, col=1)\n",
    "fig.add_trace(go.Scatter(x=nvda.tail(150).t, y=predicted[2], name='Sell'), row=1, col=1)\n",
    "\n",
    "fig.show()\n",
    "\n"
   ]
  },
  {
   "cell_type": "code",
   "execution_count": null,
   "id": "e6685ee3",
   "metadata": {},
   "outputs": [],
   "source": []
  }
 ],
 "metadata": {
  "kernelspec": {
   "display_name": "Python 3",
   "language": "python",
   "name": "python3"
  },
  "language_info": {
   "codemirror_mode": {
    "name": "ipython",
    "version": 3
   },
   "file_extension": ".py",
   "mimetype": "text/x-python",
   "name": "python",
   "nbconvert_exporter": "python",
   "pygments_lexer": "ipython3",
   "version": "3.7.9"
  }
 },
 "nbformat": 4,
 "nbformat_minor": 5
}
