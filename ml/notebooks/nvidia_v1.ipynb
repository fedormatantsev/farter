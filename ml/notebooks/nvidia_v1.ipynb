{
 "cells": [
  {
   "cell_type": "code",
   "execution_count": 11,
   "id": "0f3da8bc",
   "metadata": {},
   "outputs": [
    {
     "name": "stdout",
     "output_type": "stream",
     "text": [
      "ModelConfig(raw_input=[RawInputConfig(ticker='NVDA', resolution=<CandleResolution.THIRTY_MINUTES: 3>, first_date=datetime.date(2021, 1, 1), last_date=datetime.date(2021, 2, 1))])\n"
     ]
    }
   ],
   "source": [
    "import farter_config as cfg\n",
    "\n",
    "config_loader = cfg.ConfigLoader()\n",
    "model_config = config_loader.load('nvidia_v1')\n",
    "print(model_config)"
   ]
  },
  {
   "cell_type": "code",
   "execution_count": null,
   "id": "6ad0baff",
   "metadata": {},
   "outputs": [],
   "source": []
  }
 ],
 "metadata": {
  "kernelspec": {
   "display_name": "Python 3",
   "language": "python",
   "name": "python3"
  },
  "language_info": {
   "codemirror_mode": {
    "name": "ipython",
    "version": 3
   },
   "file_extension": ".py",
   "mimetype": "text/x-python",
   "name": "python",
   "nbconvert_exporter": "python",
   "pygments_lexer": "ipython3",
   "version": "3.9.5"
  }
 },
 "nbformat": 4,
 "nbformat_minor": 5
}
