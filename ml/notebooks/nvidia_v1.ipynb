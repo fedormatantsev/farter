{
 "cells": [
  {
   "cell_type": "code",
   "execution_count": null,
   "id": "0f3da8bc",
   "metadata": {},
   "outputs": [],
   "source": [
    "from farter import ConfigLoader\n",
    "\n",
    "config_loader = ConfigLoader()\n",
    "model_config = config_loader.load('nvidia_v1')\n",
    "print(model_config)"
   ]
  },
  {
   "cell_type": "code",
   "execution_count": null,
   "id": "6ad0baff",
   "metadata": {},
   "outputs": [],
   "source": [
    "from farter import CandleDataFetcher\n",
    "\n",
    "data_fetcher = CandleDataFetcher()\n",
    "data_fetcher.fetch_raw_data(model_config)"
   ]
  },
  {
   "cell_type": "code",
   "execution_count": null,
   "id": "98b3d903",
   "metadata": {},
   "outputs": [],
   "source": []
  }
 ],
 "metadata": {
  "kernelspec": {
   "display_name": "Python 3",
   "language": "python",
   "name": "python3"
  },
  "language_info": {
   "codemirror_mode": {
    "name": "ipython",
    "version": 3
   },
   "file_extension": ".py",
   "mimetype": "text/x-python",
   "name": "python",
   "nbconvert_exporter": "python",
   "pygments_lexer": "ipython3",
   "version": "3.9.5"
  }
 },
 "nbformat": 4,
 "nbformat_minor": 5
}
